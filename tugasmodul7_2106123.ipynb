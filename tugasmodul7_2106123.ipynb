{
  "nbformat": 4,
  "nbformat_minor": 0,
  "metadata": {
    "colab": {
      "provenance": [],
      "authorship_tag": "ABX9TyPw0HRDkde4PkSTuu2XIJH3",
      "include_colab_link": true
    },
    "kernelspec": {
      "name": "python3",
      "display_name": "Python 3"
    },
    "language_info": {
      "name": "python"
    }
  },
  "cells": [
    {
      "cell_type": "markdown",
      "metadata": {
        "id": "view-in-github",
        "colab_type": "text"
      },
      "source": [
        "<a href=\"https://colab.research.google.com/github/Ahmad-s-zaky/Tugas_Kecerdasan-Buatan/blob/main/tugasmodul7_2106123.ipynb\" target=\"_parent\"><img src=\"https://colab.research.google.com/assets/colab-badge.svg\" alt=\"Open In Colab\"/></a>"
      ]
    },
    {
      "cell_type": "markdown",
      "source": [
        "## **Ahmad S. Zaky (2106123)**"
      ],
      "metadata": {
        "id": "53gTKsMfMuQ_"
      }
    },
    {
      "cell_type": "code",
      "execution_count": 2,
      "metadata": {
        "id": "g3inzgWMJkzJ",
        "colab": {
          "base_uri": "https://localhost:8080/"
        },
        "outputId": "b396592a-3d12-4f1d-8fe0-f00666793a0b"
      },
      "outputs": [
        {
          "output_type": "stream",
          "name": "stdout",
          "text": [
            "   id  kode_provinsi nama_provinsi  kode_kabupaten_kota nama_kabupaten_kota  \\\n",
            "0   1             32    JAWA BARAT                 3201     KABUPATEN BOGOR   \n",
            "1   2             32    JAWA BARAT                 3202  KABUPATEN SUKABUMI   \n",
            "2   3             32    JAWA BARAT                 3203   KABUPATEN CIANJUR   \n",
            "3   4             32    JAWA BARAT                 3204   KABUPATEN BANDUNG   \n",
            "4   5             32    JAWA BARAT                 3205     KABUPATEN GARUT   \n",
            "\n",
            "   jumlah_lowongan_kerja          satuan  tahun  \n",
            "0                     20  LOWONGAN KERJA   2018  \n",
            "1                    193  LOWONGAN KERJA   2018  \n",
            "2                      0  LOWONGAN KERJA   2018  \n",
            "3                      0  LOWONGAN KERJA   2018  \n",
            "4                      2  LOWONGAN KERJA   2018  \n"
          ]
        }
      ],
      "source": [
        "import pandas as pd\n",
        "\n",
        "dataset = pd.read_csv('jumlah-lowongan-jabar.csv')\n",
        "print(dataset.head())"
      ]
    },
    {
      "cell_type": "markdown",
      "source": [
        "# **MISSING VALUES**"
      ],
      "metadata": {
        "id": "UazdKyJiMm2w"
      }
    },
    {
      "cell_type": "code",
      "source": [
        "print(dataset['jumlah_lowongan_kerja'].isna().sum())\n",
        "\n",
        "dataset['jumlah_lowongan_kerja'].fillna('N', inplace=True)\n",
        "\n",
        "print(dataset['jumlah_lowongan_kerja'].isna().sum())"
      ],
      "metadata": {
        "colab": {
          "base_uri": "https://localhost:8080/"
        },
        "id": "PtV7Z94LLRIw",
        "outputId": "22637cbc-5c0f-417a-f322-f9262b00262b"
      },
      "execution_count": 3,
      "outputs": [
        {
          "output_type": "stream",
          "name": "stdout",
          "text": [
            "0\n",
            "0\n"
          ]
        }
      ]
    },
    {
      "cell_type": "markdown",
      "source": [
        "# **REPLACE**"
      ],
      "metadata": {
        "id": "6WecBuFtMgsY"
      }
    },
    {
      "cell_type": "code",
      "source": [
        "dataset['nama_kabupaten_kota'].replace(['99'], ['N'], inplace=True)\n",
        "print(dataset['nama_kabupaten_kota'].value_counts())"
      ],
      "metadata": {
        "colab": {
          "base_uri": "https://localhost:8080/"
        },
        "id": "OTNrtmzhLzwe",
        "outputId": "578b6b4a-9380-41f0-a565-60ce618f2014"
      },
      "execution_count": 5,
      "outputs": [
        {
          "output_type": "stream",
          "name": "stdout",
          "text": [
            "KABUPATEN BOGOR            5\n",
            "KABUPATEN KARAWANG         5\n",
            "KOTA TASIKMALAYA           5\n",
            "KOTA CIMAHI                5\n",
            "KOTA DEPOK                 5\n",
            "KOTA BEKASI                5\n",
            "KOTA CIREBON               5\n",
            "KOTA BANDUNG               5\n",
            "KOTA SUKABUMI              5\n",
            "KOTA BOGOR                 5\n",
            "KABUPATEN PANGANDARAN      5\n",
            "KABUPATEN BANDUNG BARAT    5\n",
            "KABUPATEN BEKASI           5\n",
            "KABUPATEN PURWAKARTA       5\n",
            "KABUPATEN SUKABUMI         5\n",
            "KABUPATEN SUBANG           5\n",
            "KABUPATEN INDRAMAYU        5\n",
            "KABUPATEN SUMEDANG         5\n",
            "KABUPATEN MAJALENGKA       5\n",
            "KABUPATEN CIREBON          5\n",
            "KABUPATEN KUNINGAN         5\n",
            "KABUPATEN CIAMIS           5\n",
            "KABUPATEN TASIKMALAYA      5\n",
            "KABUPATEN GARUT            5\n",
            "KABUPATEN BANDUNG          5\n",
            "KABUPATEN CIANJUR          5\n",
            "KOTA BANJAR                5\n",
            "Name: nama_kabupaten_kota, dtype: int64\n"
          ]
        }
      ]
    }
  ]
}