{
  "nbformat": 4,
  "nbformat_minor": 0,
  "metadata": {
    "colab": {
      "provenance": []
    },
    "kernelspec": {
      "name": "python3",
      "display_name": "Python 3"
    },
    "language_info": {
      "name": "python"
    }
  },
  "cells": [
    {
      "cell_type": "markdown",
      "source": [
        "**2106123 - Ahmad S. Zaky**\n",
        "\n",
        "\n",
        "---\n",
        "\n"
      ],
      "metadata": {
        "id": "Z6dJ6RlXaXiy"
      }
    },
    {
      "cell_type": "code",
      "source": [
        "pip install defaultdict-NickNackGus"
      ],
      "metadata": {
        "id": "cV4oTcdFcvYF"
      },
      "execution_count": null,
      "outputs": []
    },
    {
      "cell_type": "code",
      "execution_count": 9,
      "metadata": {
        "id": "53fIleg7aQuy"
      },
      "outputs": [],
      "source": [
        "from collections import defaultdict\n",
        "\n",
        "class Graph:\n",
        "  \n",
        "  def __init__(self, vertices):\n",
        "    self.V = vertices\n",
        "    self.graph = defaultdict(list)\n",
        "\n",
        "  def addEdge(self, u, v):\n",
        "    self.graph[u].append(v)\n",
        "\n",
        "  def DLS(self, src, target, maxDepth):\n",
        "    \n",
        "    if src == target : return True\n",
        "    \n",
        "    if maxDepth <= 0 : return False\n",
        "\n",
        "    for i in self.graph[src]:\n",
        "      if(self.DLS(i, target, maxDepth-1)):\n",
        "        return True\n",
        "\n",
        "    return False \n",
        "\n",
        "  def IDDFS(self, src, target, maxDepth):\n",
        "\n",
        "    for i in range(maxDepth):\n",
        "      if(self.DLS(src, target, i)):\n",
        "        return True\n",
        "    \n",
        "    return False\n"
      ]
    },
    {
      "cell_type": "code",
      "source": [
        "g = Graph(7)\n",
        "g.addEdge(0, 1)\n",
        "g.addEdge(0, 2)\n",
        "g.addEdge(0, 4)\n",
        "g.addEdge(1, 3)\n",
        "g.addEdge(1, 5)\n",
        "g.addEdge(2, 6)\n",
        "\n",
        "target = 6; maxDepth = 3; src = 0\n",
        "\n",
        "if g.IDDFS(src, target, maxDepth) == True:\n",
        "  print(\"Target is reachable from source \" + \"within max depth\")\n",
        "else:\n",
        "  print(\"Target is Not reachable from source \" + \"within max depth\")"
      ],
      "metadata": {
        "colab": {
          "base_uri": "https://localhost:8080/"
        },
        "id": "vGidwPa4cHhJ",
        "outputId": "01c82b0b-82df-46ba-a0cc-54a2aa964650"
      },
      "execution_count": 10,
      "outputs": [
        {
          "output_type": "stream",
          "name": "stdout",
          "text": [
            "Target is reachable from source within max depth\n"
          ]
        }
      ]
    }
  ]
}