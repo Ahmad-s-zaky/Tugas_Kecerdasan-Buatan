{
  "nbformat": 4,
  "nbformat_minor": 0,
  "metadata": {
    "colab": {
      "provenance": []
    },
    "kernelspec": {
      "name": "python3",
      "display_name": "Python 3"
    },
    "language_info": {
      "name": "python"
    }
  },
  "cells": [
    {
      "cell_type": "markdown",
      "source": [
        "**2106123 - Ahmad S. Zaky**\n",
        "\n",
        "---\n",
        "\n"
      ],
      "metadata": {
        "id": "udKdxLpMPLX_"
      }
    },
    {
      "cell_type": "code",
      "execution_count": 4,
      "metadata": {
        "id": "A_27TujZM9FT"
      },
      "outputs": [],
      "source": [
        "def bfs(graph, source):\n",
        "  visited = set()\n",
        "  bfs_traversal = list()\n",
        "  queue = list()\n",
        "\n",
        "  queue.append(source)\n",
        "  visited.add(source)\n",
        "\n",
        "  while queue:\n",
        "    current_node = queue.pop(0)\n",
        "    bfs_traversal.append(current_node)\n",
        "\n",
        "    for neighbour_node in graph[current_node]:\n",
        "      if neighbour_node not in visited:\n",
        "        visited.add(neighbour_node)\n",
        "        queue.append(neighbour_node)\n",
        "\n",
        "  return bfs_traversal"
      ]
    },
    {
      "cell_type": "code",
      "source": [
        "def main():\n",
        "  graph = {\n",
        "      'A': ['B', 'C'],\n",
        "      'B': ['A', 'D', 'E'],\n",
        "      'C': ['A', 'F', 'G'],\n",
        "      'D': ['B'],\n",
        "      'E': ['B'],\n",
        "      'F': ['C'],\n",
        "      'G': ['C']\n",
        "  }\n",
        "\n",
        "  bfs_traversal = bfs(graph, 'A')\n",
        "  print(f\"BFS: {bfs_traversal}\")"
      ],
      "metadata": {
        "id": "WfUHZIcIN47-"
      },
      "execution_count": 5,
      "outputs": []
    },
    {
      "cell_type": "code",
      "source": [
        "if __name__ == '__main__':\n",
        "  main()"
      ],
      "metadata": {
        "colab": {
          "base_uri": "https://localhost:8080/"
        },
        "id": "Zp7MvjAtPC4c",
        "outputId": "48de18e0-3001-4f30-bbdf-b37ddb2bd277"
      },
      "execution_count": 6,
      "outputs": [
        {
          "output_type": "stream",
          "name": "stdout",
          "text": [
            "BFS: ['A', 'B', 'C', 'D', 'E', 'F', 'G']\n"
          ]
        }
      ]
    }
  ]
}