{
  "nbformat": 4,
  "nbformat_minor": 0,
  "metadata": {
    "colab": {
      "provenance": []
    },
    "kernelspec": {
      "name": "python3",
      "display_name": "Python 3"
    },
    "language_info": {
      "name": "python"
    }
  },
  "cells": [
    {
      "cell_type": "markdown",
      "source": [
        "**2106123 - Ahmad S. Zaky**\n",
        "\n",
        "---\n",
        "\n"
      ],
      "metadata": {
        "id": "eKzTvybbTCJD"
      }
    },
    {
      "cell_type": "code",
      "execution_count": 1,
      "metadata": {
        "id": "2LuKwGx7QchQ"
      },
      "outputs": [],
      "source": [
        "def dfs(graph, source, visited, dfs_traversal):\n",
        "  if source not in visited:\n",
        "    dfs_traversal.append(source)\n",
        "    visited.add(source)\n",
        "\n",
        "    for neighbour_node in graph[source]:\n",
        "      dfs(graph, neighbour_node, visited, dfs_traversal)\n",
        "\n",
        "  return dfs_traversal"
      ]
    },
    {
      "cell_type": "code",
      "source": [
        "def main():\n",
        "  visited = set()\n",
        "  dfs_traversal = list()\n",
        "\n",
        "  graph = {\n",
        "      'A': ['B', 'C'],\n",
        "      'B': ['D', 'E'],\n",
        "      'C': ['F', 'G'],\n",
        "      'D': [],\n",
        "      'E': [],\n",
        "      'F': [],\n",
        "      'G': []\n",
        "  }\n",
        "\n",
        "  print(f\"DFS: {dfs(graph, 'A', visited, dfs_traversal)}\")"
      ],
      "metadata": {
        "id": "ayTuyGGiQ8c7"
      },
      "execution_count": 2,
      "outputs": []
    },
    {
      "cell_type": "code",
      "source": [
        "if __name__ == '__main__':\n",
        "  main()"
      ],
      "metadata": {
        "colab": {
          "base_uri": "https://localhost:8080/"
        },
        "id": "9lldmcGVRqCh",
        "outputId": "4dbfa86b-9b5a-4f09-f5d1-6d6cd9c3eb1d"
      },
      "execution_count": 3,
      "outputs": [
        {
          "output_type": "stream",
          "name": "stdout",
          "text": [
            "DFS: ['A', 'B', 'D', 'E', 'C', 'F', 'G']\n"
          ]
        }
      ]
    }
  ]
}