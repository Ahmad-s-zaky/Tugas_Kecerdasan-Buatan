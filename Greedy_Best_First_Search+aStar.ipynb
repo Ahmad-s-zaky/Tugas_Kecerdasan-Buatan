{
  "nbformat": 4,
  "nbformat_minor": 0,
  "metadata": {
    "colab": {
      "provenance": []
    },
    "kernelspec": {
      "name": "python3",
      "display_name": "Python 3"
    },
    "language_info": {
      "name": "python"
    }
  },
  "cells": [
    {
      "cell_type": "markdown",
      "source": [
        "**Ahmad S. Zaky_2106123_Informatika-D**\n",
        "\n",
        "---\n",
        "\n"
      ],
      "metadata": {
        "id": "i9z-uzlv7v0M"
      }
    },
    {
      "cell_type": "markdown",
      "source": [
        "## Bagian 1: GBFS"
      ],
      "metadata": {
        "id": "66wiqR2S77vk"
      }
    },
    {
      "cell_type": "code",
      "execution_count": 9,
      "metadata": {
        "id": "Xp51XdaEXWT_"
      },
      "outputs": [],
      "source": [
        "import queue\n",
        "import matplotlib.pyplot as plt"
      ]
    },
    {
      "cell_type": "code",
      "source": [
        "def getHeuristics():\n",
        "  heuristics = {}\n",
        "  f = open(\"heuristics.txt\")\n",
        "  for i in f.readlines():\n",
        "    node_heuristic_val = i.split()\n",
        "    heuristics[node_heuristic_val[0]] = int(node_heuristic_val[1])\n",
        "\n",
        "  return heuristics"
      ],
      "metadata": {
        "id": "JyAXa7vpXqki"
      },
      "execution_count": 10,
      "outputs": []
    },
    {
      "cell_type": "code",
      "source": [
        "def getCity():\n",
        "  city = {}\n",
        "  citiesCode = {}\n",
        "  f = open(\"cities.txt\")\n",
        "  j = 1\n",
        "\n",
        "  for i in f.readlines():\n",
        "    node_city_val = i.split()\n",
        "    city[node_city_val[0]] = [int(node_city_val[1]), int(node_city_val[2])]\n",
        "\n",
        "    citiesCode[j] = node_city_val[0]\n",
        "    j += 1\n",
        "  \n",
        "  return city, citiesCode"
      ],
      "metadata": {
        "id": "MdKWWTZSYSMd"
      },
      "execution_count": 11,
      "outputs": []
    },
    {
      "cell_type": "code",
      "source": [
        "def createGraph():\n",
        "  graph = {}\n",
        "  file = open(\"citiesGraph.txt\")\n",
        "  for i in file.readlines():\n",
        "    node_val = i.split()\n",
        "\n",
        "    if node_val[0] in graph and node_val[1] in graph:\n",
        "      c = graph.get(node_val[0])\n",
        "      c.append([node_val[1], node_val[2]])\n",
        "      graph.update({node_val[0]: c})\n",
        "\n",
        "      c = graph.get(node_val[1])\n",
        "      c.append([node_val[0], node_val[2]])\n",
        "      graph.update({node_val[1]: c})\n",
        "\n",
        "    elif node_val[0] in graph:\n",
        "      c = graph.get(node_val[0])\n",
        "      c.append([node_val[1], node_val[2]])\n",
        "      graph.update({node_val[0]: c})\n",
        "\n",
        "      graph[node_val[1]] = [[node_val[0], node_val[2]]]\n",
        "\n",
        "    elif node_val[1] in graph:\n",
        "      c = graph.get(node_val[1])\n",
        "      c.append([node_val[0], node_val[2]])\n",
        "      graph.update({node_val[1]: c})\n",
        "\n",
        "      graph[node_val[0]] = [[node_val[1], node_val[2]]]\n",
        "\n",
        "    else:\n",
        "      graph[node_val[0]] = [[node_val[1], node_val[2]]]\n",
        "      graph[node_val[1]] = [[node_val[0], node_val[2]]]\n",
        "  \n",
        "  return graph\n"
      ],
      "metadata": {
        "id": "5Pc-HPS_ZQVY"
      },
      "execution_count": 12,
      "outputs": []
    },
    {
      "cell_type": "code",
      "source": [
        "def GBFS(startNode, heuristics, graph, goalNode=\"Bucharest\"):\n",
        "  priorityQueue = queue.PriorityQueue()\n",
        "  priorityQueue.put((heuristics[startNode], startNode))\n",
        "\n",
        "  path = []\n",
        "\n",
        "  while priorityQueue.empty() == False:\n",
        "    current = priorityQueue.get()[1]\n",
        "    path.append(current)\n",
        "\n",
        "    if current == goalNode:\n",
        "      break\n",
        "\n",
        "    priorityQueue = queue.PriorityQueue()\n",
        "\n",
        "    for i in graph[current]:\n",
        "      if i[0] not in path:\n",
        "        priorityQueue.put((heuristics[i[0]], i[0]))\n",
        "\n",
        "  return path\n"
      ],
      "metadata": {
        "id": "QdZ2TSTdbwlv"
      },
      "execution_count": 13,
      "outputs": []
    },
    {
      "cell_type": "code",
      "source": [
        "def drawMap(city, gbfs, graph):\n",
        "  for i, j in city.items():\n",
        "    plt.plot(j[0], j[1], \"ro\")\n",
        "    plt.annotate(i, (j[0] + 5, j[1]))\n",
        "\n",
        "    for k in graph[i]:\n",
        "      n = city[k[0]]\n",
        "      plt.plot([j[0], n[0]], [j[1], n[1]], \"gray\")\n",
        "\n",
        "  for i in range(len(gbfs)):\n",
        "    try:\n",
        "      first = city[gbfs[i]]\n",
        "      secend = city[gbfs[i + 1]]\n",
        "\n",
        "      plt.plot([first[0], secend[0]], [first[1], secend[1]], \"green\")\n",
        "    \n",
        "    except:\n",
        "      continue\n",
        "\n",
        "  plt.errorbar(1, 1, label=\"GBFS\", color=\"green\")\n",
        "  plt.legend(loc=\"lower left\")\n",
        "\n",
        "  plt.show()"
      ],
      "metadata": {
        "id": "HOyQt0tfc617"
      },
      "execution_count": 19,
      "outputs": []
    },
    {
      "cell_type": "code",
      "source": [
        "def main():\n",
        "  heuristic = getHeuristics()\n",
        "  graph = createGraph()\n",
        "  city, citiesCode = getCity()\n",
        "\n",
        "  for i, j in citiesCode.items():\n",
        "    print(i, j)\n",
        "\n",
        "  while True:\n",
        "    inputCode = int(input(\"Masukan nomor KOTA ASAL | (0 untuk keluar): \"))\n",
        "\n",
        "    if inputCode == 0:\n",
        "      break\n",
        "\n",
        "    cityName = citiesCode[inputCode]\n",
        "\n",
        "    gbfs = GBFS(cityName, heuristic, graph)\n",
        "    print(\"GBFS ==> \", gbfs)\n",
        "\n",
        "    drawMap(city, gbfs, graph)\n",
        "\n",
        "main()\n"
      ],
      "metadata": {
        "id": "lOa8A7eQeyRC",
        "colab": {
          "base_uri": "https://localhost:8080/",
          "height": 664
        },
        "outputId": "d650ae11-610d-49c0-af20-f75bd79c0f5c"
      },
      "execution_count": 21,
      "outputs": [
        {
          "output_type": "stream",
          "name": "stdout",
          "text": [
            "1 Arad\n",
            "2 Bucharest\n",
            "3 Craiova\n",
            "4 Dobreta\n",
            "5 Eforie\n",
            "6 Fagaras\n",
            "7 Giurgiu\n",
            "8 Hirsova\n",
            "9 Iasi\n",
            "10 Lugoj\n",
            "11 Mehadia\n",
            "12 Neamt\n",
            "13 Oradea\n",
            "14 Pitesti\n",
            "15 Rimnicu_Vilcea\n",
            "16 Sibiu\n",
            "17 Timisoara\n",
            "18 Urziceni\n",
            "19 Vaslui\n",
            "20 Zerind\n",
            "Masukan nomor KOTA ASAL | (0 untuk keluar): 1\n",
            "GBFS ==>  ['Arad', 'Sibiu', 'Fagaras', 'Bucharest']\n"
          ]
        },
        {
          "output_type": "display_data",
          "data": {
            "text/plain": [
              "<Figure size 432x288 with 1 Axes>"
            ],
            "image/png": "[encoded data removed]"
          },
          "metadata": {
            "needs_background": "light"
          }
        },
        {
          "name": "stdout",
          "output_type": "stream",
          "text": [
            "Masukan nomor KOTA ASAL | (0 untuk keluar): 0\n"
          ]
        }
      ]
    },
    {
      "cell_type": "markdown",
      "source": [
        "###Bagian 2: A*"
      ],
      "metadata": {
        "id": "mPOXy1Cc7K11"
      }
    },
    {
      "cell_type": "code",
      "source": [
        "import queue\n",
        "import matplotlib.pyplot as plt"
      ],
      "metadata": {
        "id": "NNoVLCUu8L3a"
      },
      "execution_count": 2,
      "outputs": []
    },
    {
      "cell_type": "code",
      "source": [
        "def getHeuristics():\n",
        "  heuristics = {}\n",
        "  f = open(\"heuristics.txt\")\n",
        "  for i in f.readlines():\n",
        "    node_heuristic_val = i.split()\n",
        "    heuristics[node_heuristic_val[0]] = int(node_heuristic_val[1])\n",
        "\n",
        "  return heuristics"
      ],
      "metadata": {
        "id": "zhBXdoqi8OgL"
      },
      "execution_count": 3,
      "outputs": []
    },
    {
      "cell_type": "code",
      "source": [
        "def getCity():\n",
        "  city = {}\n",
        "  citiesCode = {}\n",
        "  f = open(\"cities.txt\")\n",
        "  j = 1\n",
        "\n",
        "  for i in f.readlines():\n",
        "    node_city_val = i.split()\n",
        "    city[node_city_val[0]] = [int(node_city_val[1]), int(node_city_val[2])]\n",
        "\n",
        "    citiesCode[j] = node_city_val[0]\n",
        "    j += 1\n",
        "  \n",
        "  return city, citiesCode"
      ],
      "metadata": {
        "id": "WTInyVpy8RQB"
      },
      "execution_count": 4,
      "outputs": []
    },
    {
      "cell_type": "code",
      "source": [
        "def createGraph():\n",
        "  graph = {}\n",
        "  file = open(\"citiesGraph.txt\")\n",
        "  for i in file.readlines():\n",
        "    node_val = i.split()\n",
        "\n",
        "    if node_val[0] in graph and node_val[1] in graph:\n",
        "      c = graph.get(node_val[0])\n",
        "      c.append([node_val[1], node_val[2]])\n",
        "      graph.update({node_val[0]: c})\n",
        "\n",
        "      c = graph.get(node_val[1])\n",
        "      c.append([node_val[0], node_val[2]])\n",
        "      graph.update({node_val[1]: c})\n",
        "\n",
        "    elif node_val[0] in graph:\n",
        "      c = graph.get(node_val[0])\n",
        "      c.append([node_val[1], node_val[2]])\n",
        "      graph.update({node_val[0]: c})\n",
        "\n",
        "      graph[node_val[1]] = [[node_val[0], node_val[2]]]\n",
        "\n",
        "    elif node_val[1] in graph:\n",
        "      c = graph.get(node_val[1])\n",
        "      c.append([node_val[0], node_val[2]])\n",
        "      graph.update({node_val[1]: c})\n",
        "\n",
        "      graph[node_val[0]] = [[node_val[1], node_val[2]]]\n",
        "\n",
        "    else:\n",
        "      graph[node_val[0]] = [[node_val[1], node_val[2]]]\n",
        "      graph[node_val[1]] = [[node_val[0], node_val[2]]]\n",
        "  \n",
        "  return graph\n"
      ],
      "metadata": {
        "id": "Ej7aK3lZ8V0g"
      },
      "execution_count": 1,
      "outputs": []
    },
    {
      "cell_type": "code",
      "source": [
        "def Astar(startNode, heuristics, graph, goalNode=\"Bucharest\"):\n",
        "  priorityQueue = queue.PriorityQueue()\n",
        "  distance = 0\n",
        "  path = []\n",
        "\n",
        "  priorityQueue.put((heuristics[startNode] + distance, [startNode, 0]))\n",
        "\n",
        "  while priorityQueue.empty() == False:\n",
        "    current = priorityQueue.get()[1]\n",
        "    path.append(current[0])\n",
        "    distance += int(current[1])\n",
        "\n",
        "    if current[0] == goalNode:\n",
        "      break\n",
        "\n",
        "    priorityQueue = queue.PriorityQueue()\n",
        "\n",
        "    for i in graph[current[0]]:\n",
        "      if i[0] not in path:\n",
        "        priorityQueue.put((heuristics[i[0]] + int(i[1]) + distance, i))\n",
        "\n",
        "  return path"
      ],
      "metadata": {
        "id": "rvMcTWes4TQL"
      },
      "execution_count": 5,
      "outputs": []
    },
    {
      "cell_type": "code",
      "source": [
        "def drawMap(city, gbfs, astar, graph):\n",
        "  for i, j in city.items():\n",
        "    plt.plot(j[0], j[1], \"ro\")\n",
        "    plt.annotate(i, (j[0] + 555, j[1]))\n",
        "\n",
        "    for k in graph[i]:\n",
        "      n = city[k[0]]\n",
        "      plt.plot([j[0], n[0]], [j[1], n[1]], \"gray\")\n",
        "\n",
        "  for i in range(len(gbfs)):\n",
        "    try:\n",
        "      first = city[gbfs[i]]\n",
        "      secend = city[gbfs[i + 1]]\n",
        "\n",
        "      plt.plot([first[0], secend[0]], [first[1], secend[1]], \"green\")\n",
        "    except: continue\n",
        "\n",
        "  for i in range(len(astar)):\n",
        "    try:\n",
        "      first = city[astar[i]]\n",
        "      secend = city[astar[i + 1]]\n",
        "\n",
        "      plt.plot([first[0], secend[0]], [first[1], secend[1]], \"blue\")\n",
        "    except: continue   \n",
        "\n",
        "  plt.errorbar(1, 1, label=\"GBFS\", color=\"green\")\n",
        "  plt.errorbar(1, 1, label=\"ASTAR\", color=\"blue\")\n",
        "  plt.legend(loc=\"lower left\")\n",
        "\n",
        "  plt.show()\n"
      ],
      "metadata": {
        "id": "EIZMYkqd4WA4"
      },
      "execution_count": 17,
      "outputs": []
    },
    {
      "cell_type": "code",
      "source": [
        "def main():\n",
        "  heuristic = getHeuristics()\n",
        "  graph = createGraph()\n",
        "  city, citiesCode = getCity()\n",
        "\n",
        "  for i, j in citiesCode.items():\n",
        "    print(i, j)\n",
        "\n",
        "  while True:\n",
        "    inputCode = int(input(\"Masukan nomor KOTA ASAL (0 untuk keluar): \"))\n",
        "\n",
        "    if inputCode == 0:\n",
        "      break\n",
        "\n",
        "    cityName = citiesCode[inputCode]\n",
        "\n",
        "    gbfs = GBFS(cityName, heuristic, graph)\n",
        "    astar = Astar(cityName, heuristic, graph)\n",
        "    print(\"GBFS ==> \", gbfs)\n",
        "    print(\"ASTAR ==> \", astar)\n",
        "\n",
        "    drawMap(city, gbfs, astar, graph)\n",
        "\n",
        "main()"
      ],
      "metadata": {
        "colab": {
          "base_uri": "https://localhost:8080/",
          "height": 682
        },
        "id": "3FI9l9l_4Y2C",
        "outputId": "a71642eb-1f40-4370-bb27-07f6a75b69e0"
      },
      "execution_count": 18,
      "outputs": [
        {
          "output_type": "stream",
          "name": "stdout",
          "text": [
            "1 Arad\n",
            "2 Bucharest\n",
            "3 Craiova\n",
            "4 Dobreta\n",
            "5 Eforie\n",
            "6 Fagaras\n",
            "7 Giurgiu\n",
            "8 Hirsova\n",
            "9 Iasi\n",
            "10 Lugoj\n",
            "11 Mehadia\n",
            "12 Neamt\n",
            "13 Oradea\n",
            "14 Pitesti\n",
            "15 Rimnicu_Vilcea\n",
            "16 Sibiu\n",
            "17 Timisoara\n",
            "18 Urziceni\n",
            "19 Vaslui\n",
            "20 Zerind\n",
            "Masukan nomor KOTA ASAL (0 untuk keluar): 1\n",
            "GBFS ==>  ['Arad', 'Sibiu', 'Fagaras', 'Bucharest']\n",
            "ASTAR ==>  ['Arad', 'Sibiu', 'Rimnicu_Vilcea', 'Pitesti', 'Bucharest']\n"
          ]
        },
        {
          "output_type": "display_data",
          "data": {
            "text/plain": [
              "<Figure size 432x288 with 1 Axes>"
            ],
            "image/png": "[encoded data removed]"
          },
          "metadata": {
            "needs_background": "light"
          }
        },
        {
          "name": "stdout",
          "output_type": "stream",
          "text": [
            "Masukan nomor KOTA ASAL (0 untuk keluar): 0\n"
          ]
        }
      ]
    }
  ]
}